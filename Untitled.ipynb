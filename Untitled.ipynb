{
 "cells": [
  {
   "cell_type": "code",
   "execution_count": 13,
   "metadata": {
    "collapsed": false
   },
   "outputs": [
    {
     "name": "stdout",
     "output_type": "stream",
     "text": [
      "1.22\n"
     ]
    }
   ],
   "source": [
    "import numpy as np\n",
    "C = np.array([\n",
    "            np.array([1.,1])*0.62,\n",
    "            np.array([1.,-1])*0.24,\n",
    "            np.array([-1.,1])*0.13,\n",
    "            np.array([-1.,-1])*0.01\n",
    "    ])\n",
    "print(np.sum(C @ np.array([1,1])))"
   ]
  },
  {
   "cell_type": "code",
   "execution_count": null,
   "metadata": {
    "collapsed": true
   },
   "outputs": [],
   "source": []
  }
 ],
 "metadata": {
  "anaconda-cloud": {},
  "kernelspec": {
   "display_name": "Python [conda env:rl]",
   "language": "python",
   "name": "conda-env-rl-py"
  }
 },
 "nbformat": 4,
 "nbformat_minor": 1
}
